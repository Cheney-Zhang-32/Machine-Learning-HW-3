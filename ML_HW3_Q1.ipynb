{
  "nbformat": 4,
  "nbformat_minor": 0,
  "metadata": {
    "colab": {
      "provenance": []
    },
    "kernelspec": {
      "name": "python3",
      "display_name": "Python 3"
    },
    "language_info": {
      "name": "python"
    }
  },
  "cells": [
    {
      "cell_type": "code",
      "execution_count": null,
      "metadata": {
        "colab": {
          "base_uri": "https://localhost:8080/"
        },
        "id": "j0JEVIatAgaz",
        "outputId": "35e1fac7-e2ca-4736-f651-81165e5238e5"
      },
      "outputs": [
        {
          "output_type": "stream",
          "name": "stdout",
          "text": [
            "Part a:  [[ 3.  8. 13.  6.]\n",
            " [13. 25. 31. 12.]\n",
            " [25. 43. 49. 18.]\n",
            " [ 7.  8.  9.  0.]]\n",
            "Part b:  [[ 0.  0.  0.  0.  0.  0.]\n",
            " [ 0.  3.  8. 13.  6.  0.]\n",
            " [ 0. 13. 25. 31. 12.  0.]\n",
            " [ 0. 25. 43. 49. 18.  0.]\n",
            " [ 0.  7.  8.  9.  0.  0.]\n",
            " [ 0.  0.  0.  0.  0.  0.]]\n"
          ]
        }
      ],
      "source": [
        "# Cheney Zhang Homework #3 Question #1\n",
        "\n",
        "import numpy as np\n",
        "\n",
        "# Given input matrix\n",
        "input_matrix = np.array([[0, 0, 0, 0, 0],\n",
        "                         [0, 1, 2, 3, 0],\n",
        "                         [0, 4, 5, 6, 0],\n",
        "                         [0, 7, 8, 9, 0],\n",
        "                         [0, 0, 0, 0, 0]])\n",
        "\n",
        "# Given Kernel matrix\n",
        "kernel = np.array([[0, 1],\n",
        "                   [2, 3]])\n",
        "\n",
        "# Part a: 2D convolution operation (without padding)\n",
        "output_size = 4\n",
        "output_matrix_without_padding = np.zeros((output_size, output_size))\n",
        "\n",
        "for i in range(output_size):\n",
        "    for j in range(output_size):\n",
        "        output_matrix_without_padding[i, j] = np.sum(input_matrix[i:i+2, j:j+2] * kernel)\n",
        "\n",
        "# Part b: 2D convolution operation (with padding)\n",
        "input_matrix_with_padding = np.pad(input_matrix, 1)\n",
        "output_size_with_padding = 6\n",
        "output_matrix_with_padding = np.zeros((output_size_with_padding, output_size_with_padding))\n",
        "\n",
        "for i in range(output_size_with_padding):\n",
        "    for j in range(output_size_with_padding):\n",
        "        output_matrix_with_padding[i, j] = np.sum(input_matrix_with_padding[i:i+2, j:j+2] * kernel)\n",
        "\n",
        "print(\"Part a: \",output_matrix_without_padding)\n",
        "print(\"Part b: \", output_matrix_with_padding)"
      ]
    }
  ]
}